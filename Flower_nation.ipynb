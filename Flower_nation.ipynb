{
  "cells": [
    {
      "cell_type": "markdown",
      "metadata": {
        "id": "view-in-github",
        "colab_type": "text"
      },
      "source": [
        "<a href=\"https://colab.research.google.com/github/Givemeeee/Flowers/blob/main/Flower_nation.ipynb\" target=\"_parent\"><img src=\"https://colab.research.google.com/assets/colab-badge.svg\" alt=\"Open In Colab\"/></a>"
      ]
    },
    {
      "cell_type": "code",
      "execution_count": null,
      "metadata": {
        "id": "Hi-I7B8M8Iwl"
      },
      "outputs": [],
      "source": [
        "import numpy as np\n",
        "import cv2\n",
        "import matplotlib.pyplot as plt\n",
        "import tensorflow as tf\n",
        "import os\n",
        "from tensorflow.keras import layers\n",
        "from tensorflow.keras.models import Sequential\n",
        "from tensorflow.keras.layers import Dense,Flatten,Dropout,Activation,Conv2D,MaxPool2D\n",
        "from tensorflow.python.keras.utils import np_utils\n",
        "from sklearn.model_selection import train_test_split\n",
        "from tensorflow.keras.callbacks import EarlyStopping\n",
        "from tensorflow.keras.regularizers import l1, l2\n",
        "from keras.callbacks import ReduceLROnPlateau\n",
        "from tensorflow.keras.applications import EfficientNetB7"
      ]
    },
    {
      "cell_type": "code",
      "source": [
        "from google.colab import drive\n",
        "drive.mount('/content/drive')"
      ],
      "metadata": {
        "id": "Dott1q0P8PAQ",
        "outputId": "5a01d003-e01c-463c-fe38-5ea627bd1682",
        "colab": {
          "base_uri": "https://localhost:8080/"
        }
      },
      "execution_count": null,
      "outputs": [
        {
          "output_type": "stream",
          "name": "stdout",
          "text": [
            "Mounted at /content/drive\n"
          ]
        }
      ]
    },
    {
      "cell_type": "code",
      "execution_count": null,
      "metadata": {
        "id": "vcJqYGzF8Iwn"
      },
      "outputs": [],
      "source": [
        "'''\n",
        "資料清洗環節\n",
        "'''\n",
        "path1 ='/content/drive/MyDrive/Colab Notebooks/三民ml/flowerdataset/train'\n",
        "path2 ='/content/drive/MyDrive/Colab Notebooks/三民ml/flowerdataset/test'\n",
        "files = os.listdir(path1)\n",
        "tfiles = os.listdir(path2)\n",
        "directiories = list()"
      ]
    },
    {
      "cell_type": "code",
      "execution_count": null,
      "metadata": {
        "id": "yU_xsDo08Iwn",
        "outputId": "5944751c-020d-40cc-922c-ec6ce6a2b9a7",
        "colab": {
          "base_uri": "https://localhost:8080/"
        }
      },
      "outputs": [
        {
          "output_type": "execute_result",
          "data": {
            "text/plain": [
              "['Daisy',\n",
              " 'Dandelion',\n",
              " 'Orchid',\n",
              " 'Sunflower',\n",
              " 'Lilly',\n",
              " 'Tulip',\n",
              " 'Lotus',\n",
              " 'Rose']"
            ]
          },
          "metadata": {},
          "execution_count": 4
        }
      ],
      "source": [
        "files"
      ]
    },
    {
      "cell_type": "code",
      "source": [
        "tfiles"
      ],
      "metadata": {
        "colab": {
          "base_uri": "https://localhost:8080/"
        },
        "id": "7aU966EpyXis",
        "outputId": "18dd1f31-1eb4-46ec-c091-c844212ca4af"
      },
      "execution_count": null,
      "outputs": [
        {
          "output_type": "execute_result",
          "data": {
            "text/plain": [
              "['Daisy',\n",
              " 'Lotus',\n",
              " 'Rose',\n",
              " 'Dandelion',\n",
              " 'Tulip',\n",
              " 'Sunflower',\n",
              " 'Lilly',\n",
              " 'Orchid']"
            ]
          },
          "metadata": {},
          "execution_count": 5
        }
      ]
    },
    {
      "cell_type": "code",
      "execution_count": null,
      "metadata": {
        "id": "gLbEpfLS8Iwn"
      },
      "outputs": [],
      "source": [
        "x_train = []\n",
        "y_train = []\n",
        "x_test = []\n",
        "y_test = []"
      ]
    },
    {
      "cell_type": "code",
      "execution_count": null,
      "metadata": {
        "id": "DrJkTlYl8Iwn",
        "outputId": "7f2507e9-edf5-4442-8600-0dc1da81f0e7",
        "colab": {
          "base_uri": "https://localhost:8080/"
        }
      },
      "outputs": [
        {
          "output_type": "execute_result",
          "data": {
            "text/plain": [
              "['Daisy',\n",
              " 'Dandelion',\n",
              " 'Orchid',\n",
              " 'Sunflower',\n",
              " 'Lilly',\n",
              " 'Tulip',\n",
              " 'Lotus',\n",
              " 'Rose']"
            ]
          },
          "metadata": {},
          "execution_count": 7
        }
      ],
      "source": [
        "for dir in files:\n",
        "  if os.path.isdir(os.path.join(path1,dir)):\n",
        "    directiories.append(dir)\n",
        "(directiories)"
      ]
    },
    {
      "cell_type": "code",
      "execution_count": null,
      "metadata": {
        "id": "laroDbIW8Iwo",
        "outputId": "fef89175-7eb5-4e9b-8a6f-dcb5743a49aa",
        "colab": {
          "base_uri": "https://localhost:8080/"
        }
      },
      "outputs": [
        {
          "output_type": "stream",
          "name": "stdout",
          "text": [
            "Flower Classes: ['Daisy', 'Dandelion', 'Orchid', 'Sunflower', 'Lilly', 'Tulip', 'Lotus', 'Rose']\n",
            "Daisy: 392 images\n",
            "Dandelion: 385 images\n",
            "Orchid: 397 images\n",
            "Sunflower: 393 images\n",
            "Lilly: 394 images\n",
            "Tulip: 393 images\n",
            "Lotus: 397 images\n",
            "Rose: 397 images\n"
          ]
        }
      ],
      "source": [
        "# 訓練集資料\n",
        "train_data_path = path1\n",
        "\n",
        "# 列出花的目錄\n",
        "flower_classes = os.listdir(train_data_path)\n",
        "print(\"Flower Classes:\", flower_classes)\n",
        "\n",
        "# 計算所有圖片數量\n",
        "for flower_class in flower_classes:\n",
        "    class_path = os.path.join(train_data_path, flower_class)\n",
        "    num_images = len(os.listdir(class_path))\n",
        "    print(f\"{flower_class}: {num_images} images\")"
      ]
    },
    {
      "cell_type": "code",
      "source": [
        "# 顯示所有測試集資料內容\n",
        "train_data_path = path2\n",
        "\n",
        "# 列出所有目錄\n",
        "flower_classes = os.listdir(train_data_path)\n",
        "print(\"Flower Classes:\", flower_classes)\n",
        "\n",
        "# 計算有多少張圖片\n",
        "for flower_class in flower_classes:\n",
        "    class_path = os.path.join(train_data_path, flower_class)\n",
        "    num_images = len(os.listdir(class_path))\n",
        "    print(f\"{flower_class}: {num_images} images\")"
      ],
      "metadata": {
        "colab": {
          "base_uri": "https://localhost:8080/"
        },
        "id": "TqE3OLnI63rN",
        "outputId": "58947901-1275-41b7-e178-ec831143a771"
      },
      "execution_count": null,
      "outputs": [
        {
          "output_type": "stream",
          "name": "stdout",
          "text": [
            "Flower Classes: ['Daisy', 'Lotus', 'Rose', 'Dandelion', 'Tulip', 'Sunflower', 'Lilly', 'Orchid']\n",
            "Daisy: 89 images\n",
            "Lotus: 101 images\n",
            "Rose: 97 images\n",
            "Dandelion: 94 images\n",
            "Tulip: 100 images\n",
            "Sunflower: 101 images\n",
            "Lilly: 100 images\n",
            "Orchid: 89 images\n"
          ]
        }
      ]
    },
    {
      "cell_type": "code",
      "execution_count": null,
      "metadata": {
        "id": "UgxYm4XN8Iwo"
      },
      "outputs": [],
      "source": [
        "def resize_and_keep_aspect_ratio(dir_path, img_files, target_size=(256, 256)):\n",
        "    for item in img_files:\n",
        "        item_path = os.path.join(dir_path, item)  # 確保路徑正確\n",
        "        image = cv2.imread(item_path)\n",
        "\n",
        "        if image is None:\n",
        "            print(f\"Error reading file {item_path}\")  # 如果文件讀取有誤，打印錯誤信息\n",
        "            continue\n",
        "\n",
        "        # 原始圖片尺寸\n",
        "        h, w = image.shape[:2]\n",
        "\n",
        "        # 計算縮放比例\n",
        "        scale = min(target_size[0] / w, target_size[1] / h)\n",
        "\n",
        "        # 應用縮放比例\n",
        "        new_w, new_h = int(w * scale), int(h * scale)\n",
        "        resized_image = cv2.resize(image, (new_w, new_h), interpolation=cv2.INTER_AREA)\n",
        "\n",
        "        # 創建一個新的256x256的背景\n",
        "        new_image = np.zeros((target_size[1], target_size[0], 3), dtype=np.uint8)\n",
        "\n",
        "        # 計算貼上位置\n",
        "        x_offset = (target_size[0] - new_w) // 2\n",
        "        y_offset = (target_size[1] - new_h) // 2\n",
        "\n",
        "        # 將縮放後的圖片貼到中間\n",
        "        new_image[y_offset:y_offset+new_h, x_offset:x_offset+new_w] = resized_image\n",
        "\n",
        "        # 保存調整後的圖片\n",
        "        save_path = os.path.join(dir_path, 'resize', item)  # 確保保存路徑正確\n",
        "        if not os.path.exists(os.path.join(dir_path, 'resize')):\n",
        "            os.makedirs(os.path.join(dir_path, 'resize'))\n",
        "        cv2.imwrite(save_path, new_image)\n",
        "\n"
      ]
    },
    {
      "cell_type": "code",
      "execution_count": null,
      "metadata": {
        "id": "-SEcSUrb8Iwo"
      },
      "outputs": [],
      "source": [
        "def creat_data(path, category, x_list, y_list):\n",
        "    for p in os.listdir(path):\n",
        "        img_array = cv2.imread(os.path.join(path, p))\n",
        "        img_array = cv2.cvtColor(img_array, cv2.COLOR_BGR2RGB)\n",
        "        x_list.append(img_array)\n",
        "        y_list.append(category)"
      ]
    },
    {
      "cell_type": "code",
      "execution_count": null,
      "metadata": {
        "id": "emoAUPx_8Iwp"
      },
      "outputs": [],
      "source": [
        "category = 0\n",
        "\n",
        "def process_data(path, category, x_list, y_list):\n",
        "    directories = [d for d in os.listdir(path) if os.path.isdir(os.path.join(path, d))]\n",
        "    for directory in directories:\n",
        "        dir_path = os.path.join(path, directory)\n",
        "        img_files = [file for file in os.listdir(dir_path) if file.endswith(('.jpg', '.jpeg', '.png'))]\n",
        "        resizeDir = os.path.join(dir_path, 'resize')\n",
        "        if not os.path.exists(resizeDir):\n",
        "            os.makedirs(resizeDir)\n",
        "        if img_files:\n",
        "            resize_and_keep_aspect_ratio(dir_path, img_files)\n",
        "        else:\n",
        "            print(f\"No image files found in {dir_path}\")\n",
        "        creat_data(resizeDir, category, x_list, y_list)\n",
        "        category += 1"
      ]
    },
    {
      "cell_type": "code",
      "execution_count": null,
      "metadata": {
        "id": "6ike_H9w8Iwp"
      },
      "outputs": [],
      "source": [
        "process_data(path1, category, x_train, y_train)\n"
      ]
    },
    {
      "cell_type": "code",
      "execution_count": null,
      "metadata": {
        "id": "ZnvKIp9Y8Iwp",
        "colab": {
          "base_uri": "https://localhost:8080/",
          "height": 296
        },
        "outputId": "0487ed42-0331-4e0c-cdb1-b0e6f94d6225"
      },
      "outputs": [
        {
          "output_type": "execute_result",
          "data": {
            "text/plain": [
              "array([[[0, 0, 0],\n",
              "        [0, 0, 0],\n",
              "        [0, 0, 0],\n",
              "        ...,\n",
              "        [0, 0, 0],\n",
              "        [0, 0, 0],\n",
              "        [0, 0, 0]],\n",
              "\n",
              "       [[0, 0, 0],\n",
              "        [0, 0, 0],\n",
              "        [0, 0, 0],\n",
              "        ...,\n",
              "        [0, 0, 0],\n",
              "        [0, 0, 0],\n",
              "        [0, 0, 0]],\n",
              "\n",
              "       [[0, 0, 0],\n",
              "        [0, 0, 0],\n",
              "        [0, 0, 0],\n",
              "        ...,\n",
              "        [0, 0, 0],\n",
              "        [0, 0, 0],\n",
              "        [0, 0, 0]],\n",
              "\n",
              "       ...,\n",
              "\n",
              "       [[0, 0, 0],\n",
              "        [0, 0, 0],\n",
              "        [0, 0, 0],\n",
              "        ...,\n",
              "        [0, 0, 0],\n",
              "        [0, 0, 0],\n",
              "        [0, 0, 0]],\n",
              "\n",
              "       [[0, 0, 0],\n",
              "        [0, 0, 0],\n",
              "        [0, 0, 0],\n",
              "        ...,\n",
              "        [0, 0, 0],\n",
              "        [0, 0, 0],\n",
              "        [0, 0, 0]],\n",
              "\n",
              "       [[0, 0, 0],\n",
              "        [0, 0, 0],\n",
              "        [0, 0, 0],\n",
              "        ...,\n",
              "        [0, 0, 0],\n",
              "        [0, 0, 0],\n",
              "        [0, 0, 0]]], dtype=uint8)"
            ],
            "text/html": [
              "<style>\n",
              "      .ndarray_repr .ndarray_raw_data {\n",
              "        display: none;\n",
              "      }\n",
              "      .ndarray_repr.show_array .ndarray_raw_data {\n",
              "        display: block;\n",
              "      }\n",
              "      .ndarray_repr.show_array .ndarray_image_preview {\n",
              "        display: none;\n",
              "      }\n",
              "      </style>\n",
              "      <div id=\"id-7669f534-4e9c-43d2-99db-53bc278af76a\" class=\"ndarray_repr\"><pre>ndarray (256, 256, 3) <button style=\"padding: 0 2px;\">show data</button></pre><img src=\"data:image/png;base64,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\" class=\"ndarray_image_preview\" /><pre class=\"ndarray_raw_data\">array([[[0, 0, 0],\n",
              "        [0, 0, 0],\n",
              "        [0, 0, 0],\n",
              "        ...,\n",
              "        [0, 0, 0],\n",
              "        [0, 0, 0],\n",
              "        [0, 0, 0]],\n",
              "\n",
              "       [[0, 0, 0],\n",
              "        [0, 0, 0],\n",
              "        [0, 0, 0],\n",
              "        ...,\n",
              "        [0, 0, 0],\n",
              "        [0, 0, 0],\n",
              "        [0, 0, 0]],\n",
              "\n",
              "       [[0, 0, 0],\n",
              "        [0, 0, 0],\n",
              "        [0, 0, 0],\n",
              "        ...,\n",
              "        [0, 0, 0],\n",
              "        [0, 0, 0],\n",
              "        [0, 0, 0]],\n",
              "\n",
              "       ...,\n",
              "\n",
              "       [[0, 0, 0],\n",
              "        [0, 0, 0],\n",
              "        [0, 0, 0],\n",
              "        ...,\n",
              "        [0, 0, 0],\n",
              "        [0, 0, 0],\n",
              "        [0, 0, 0]],\n",
              "\n",
              "       [[0, 0, 0],\n",
              "        [0, 0, 0],\n",
              "        [0, 0, 0],\n",
              "        ...,\n",
              "        [0, 0, 0],\n",
              "        [0, 0, 0],\n",
              "        [0, 0, 0]],\n",
              "\n",
              "       [[0, 0, 0],\n",
              "        [0, 0, 0],\n",
              "        [0, 0, 0],\n",
              "        ...,\n",
              "        [0, 0, 0],\n",
              "        [0, 0, 0],\n",
              "        [0, 0, 0]]], dtype=uint8)</pre></div><script>\n",
              "      (() => {\n",
              "      const titles = ['show data', 'hide data'];\n",
              "      let index = 0\n",
              "      document.querySelector('#id-7669f534-4e9c-43d2-99db-53bc278af76a button').onclick = (e) => {\n",
              "        document.querySelector('#id-7669f534-4e9c-43d2-99db-53bc278af76a').classList.toggle('show_array');\n",
              "        index = (++index) % 2;\n",
              "        document.querySelector('#id-7669f534-4e9c-43d2-99db-53bc278af76a button').textContent = titles[index];\n",
              "        e.preventDefault();\n",
              "        e.stopPropagation();\n",
              "      }\n",
              "      })();\n",
              "    </script>"
            ]
          },
          "metadata": {},
          "execution_count": 14
        }
      ],
      "source": [
        "x_train[0]"
      ]
    },
    {
      "cell_type": "code",
      "source": [
        "y_train[391]"
      ],
      "metadata": {
        "colab": {
          "base_uri": "https://localhost:8080/"
        },
        "id": "WOuDfWjbfOvO",
        "outputId": "0015dd54-b0be-4f36-f0bc-7e0548605576"
      },
      "execution_count": null,
      "outputs": [
        {
          "output_type": "execute_result",
          "data": {
            "text/plain": [
              "1"
            ]
          },
          "metadata": {},
          "execution_count": 15
        }
      ]
    },
    {
      "cell_type": "markdown",
      "source": [],
      "metadata": {
        "id": "76OwIOn3MjTL"
      }
    },
    {
      "cell_type": "code",
      "execution_count": null,
      "metadata": {
        "id": "Ne3wOss68Iwp",
        "colab": {
          "base_uri": "https://localhost:8080/"
        },
        "outputId": "41e84e8d-0778-4563-9d03-93d727c64b35"
      },
      "outputs": [
        {
          "output_type": "execute_result",
          "data": {
            "text/plain": [
              "3140"
            ]
          },
          "metadata": {},
          "execution_count": 16
        }
      ],
      "source": [
        "len(y_train)"
      ]
    },
    {
      "cell_type": "code",
      "execution_count": null,
      "metadata": {
        "id": "_6Bw_M3o8Iwq"
      },
      "outputs": [],
      "source": [
        "x_train = np.array(x_train)\n",
        "y_train = np.array(y_train)\n",
        "\n",
        "x_train = x_train/255 #色階\n",
        "y_train = np_utils.to_categorical(y_train)\n",
        "\n",
        "#x_test = np.array(x_test).reshape(-1,256,256,3)\n",
        "#y_test = np.array(y_test)\n",
        "\n",
        "#x_test = x_test/255 #色階\n",
        "#y_test = np_utils.to_categorical(y_test)\n"
      ]
    },
    {
      "cell_type": "code",
      "source": [
        "x_train[4]"
      ],
      "metadata": {
        "id": "6ZYxiIHGZRD0",
        "colab": {
          "base_uri": "https://localhost:8080/"
        },
        "outputId": "f07e9b2a-cd4c-49f8-f739-fc0ac55434f9"
      },
      "execution_count": null,
      "outputs": [
        {
          "output_type": "execute_result",
          "data": {
            "text/plain": [
              "array([[[0.        , 0.00392157, 0.        ],\n",
              "        [0.        , 0.00392157, 0.        ],\n",
              "        [0.        , 0.00392157, 0.        ],\n",
              "        ...,\n",
              "        [0.        , 0.00392157, 0.        ],\n",
              "        [0.        , 0.00392157, 0.        ],\n",
              "        [0.        , 0.00392157, 0.        ]],\n",
              "\n",
              "       [[0.        , 0.00392157, 0.        ],\n",
              "        [0.        , 0.00392157, 0.        ],\n",
              "        [0.        , 0.00392157, 0.        ],\n",
              "        ...,\n",
              "        [0.        , 0.00392157, 0.        ],\n",
              "        [0.        , 0.00392157, 0.        ],\n",
              "        [0.        , 0.00392157, 0.        ]],\n",
              "\n",
              "       [[0.        , 0.        , 0.        ],\n",
              "        [0.        , 0.        , 0.        ],\n",
              "        [0.        , 0.        , 0.00784314],\n",
              "        ...,\n",
              "        [0.        , 0.        , 0.00784314],\n",
              "        [0.        , 0.        , 0.00784314],\n",
              "        [0.        , 0.        , 0.00784314]],\n",
              "\n",
              "       ...,\n",
              "\n",
              "       [[0.        , 0.        , 0.        ],\n",
              "        [0.        , 0.        , 0.        ],\n",
              "        [0.        , 0.        , 0.        ],\n",
              "        ...,\n",
              "        [0.        , 0.        , 0.        ],\n",
              "        [0.00392157, 0.        , 0.        ],\n",
              "        [0.00392157, 0.        , 0.        ]],\n",
              "\n",
              "       [[0.        , 0.        , 0.        ],\n",
              "        [0.        , 0.        , 0.        ],\n",
              "        [0.        , 0.        , 0.        ],\n",
              "        ...,\n",
              "        [0.        , 0.        , 0.        ],\n",
              "        [0.00392157, 0.        , 0.        ],\n",
              "        [0.00392157, 0.        , 0.        ]],\n",
              "\n",
              "       [[0.        , 0.        , 0.        ],\n",
              "        [0.        , 0.        , 0.        ],\n",
              "        [0.        , 0.        , 0.        ],\n",
              "        ...,\n",
              "        [0.        , 0.        , 0.00784314],\n",
              "        [0.00392157, 0.        , 0.        ],\n",
              "        [0.00392157, 0.        , 0.        ]]])"
            ]
          },
          "metadata": {},
          "execution_count": 18
        }
      ]
    },
    {
      "cell_type": "code",
      "source": [
        "X_train,X_test,Y_train,Y_test = train_test_split(x_train,y_train,test_size=0.2,random_state=42)"
      ],
      "metadata": {
        "id": "JX7I_oAGZd1E"
      },
      "execution_count": null,
      "outputs": []
    },
    {
      "cell_type": "markdown",
      "metadata": {
        "id": "kCTaKdXN8Iwq"
      },
      "source": [
        "建模\n"
      ]
    },
    {
      "cell_type": "code",
      "execution_count": null,
      "metadata": {
        "id": "acDjwvw98Iwr"
      },
      "outputs": [],
      "source": [
        "model = Sequential()\n",
        "model.add(Conv2D(filters=32,kernel_size=(3,3),padding='same',input_shape=x_train.shape[1:],activation='relu')) #input 為抓取長、寬、通道\n",
        "model.add(MaxPool2D(pool_size=(2, 2),padding='same'))\n",
        "model.add(Dropout(0.2))\n",
        "model.add(Conv2D(filters=64,kernel_size=(3,3),padding='same',activation='relu'))\n",
        "model.add(MaxPool2D(pool_size=(2, 2),padding='same'))\n",
        "model.add(Dropout(0.2))\n",
        "model.add(Flatten())\n",
        "model.add(Dense(128, activation='relu'))\n",
        "model.add(Dropout(0.5))\n",
        "model.add(Dense(8, activation='softmax'))"
      ]
    },
    {
      "cell_type": "code",
      "execution_count": null,
      "metadata": {
        "id": "L38HXC_Z8Iwr"
      },
      "outputs": [],
      "source": [
        "model.compile(optimizer='adam',\n",
        "              loss='categorical_crossentropy',\n",
        "              metrics=['accuracy'])"
      ]
    },
    {
      "cell_type": "code",
      "source": [
        "early_stopping = EarlyStopping(monitor='val_loss', patience=10, verbose=1, mode='min', restore_best_weights=True)"
      ],
      "metadata": {
        "id": "hNnx6EtfyNnj"
      },
      "execution_count": null,
      "outputs": []
    },
    {
      "cell_type": "code",
      "source": [
        "reduce_lr = ReduceLROnPlateau(monitor='val_loss', factor=0.2, patience=5, min_lr=0.001)"
      ],
      "metadata": {
        "id": "XxVI0zwaeaIk"
      },
      "execution_count": null,
      "outputs": []
    },
    {
      "cell_type": "code",
      "source": [
        "print(f\"Shape of X_train: {X_train.shape}\")\n",
        "print(f\"Shape of y_train: {Y_train.shape}\")"
      ],
      "metadata": {
        "colab": {
          "base_uri": "https://localhost:8080/"
        },
        "id": "ZjDQE07fhYEG",
        "outputId": "e745f9b5-7943-4857-ab82-ee67c3186420"
      },
      "execution_count": null,
      "outputs": [
        {
          "output_type": "stream",
          "name": "stdout",
          "text": [
            "Shape of X_train: (2512, 256, 256, 3)\n",
            "Shape of y_train: (2512, 8)\n"
          ]
        }
      ]
    },
    {
      "cell_type": "code",
      "execution_count": null,
      "metadata": {
        "id": "c2Nc9P6l8Iwr"
      },
      "outputs": [],
      "source": [
        "history=model.fit(X_train, Y_train, batch_size=64, epochs=20, validation_split=0.2,callbacks=[reduce_lr,early_stopping])\n",
        "\n",
        "loss, accuracy = model.evaluate(X_train, Y_train)"
      ]
    },
    {
      "cell_type": "code",
      "source": [
        "#model.save('/content/drive/MyDrive/Colab Notebooks/三民ml/flowerdataset/flowerFinal3.kreas')"
      ],
      "metadata": {
        "id": "6aYctGRmhd5p"
      },
      "execution_count": null,
      "outputs": []
    },
    {
      "cell_type": "code",
      "source": [
        "def show_history(train_history,train,validation):\n",
        "  # Visualize training history\n",
        "  plt.figure(figsize=(12, 6))\n",
        "\n",
        "  # Plot training & validation accuracy values\n",
        "  plt.subplot(1, 2, 1)\n",
        "  plt.plot(history.history['accuracy'])\n",
        "  plt.plot(history.history['val_accuracy'])\n",
        "  plt.title('Model Accuracy')\n",
        "  plt.xlabel('Epoch')\n",
        "  plt.ylabel('Accuracy')\n",
        "  plt.legend(['Train', 'Validation'], loc='upper left')\n",
        "\n",
        "  # Plot training & validation loss values\n",
        "  plt.subplot(1, 2, 2)\n",
        "  plt.plot(history.history['loss'])\n",
        "  plt.plot(history.history['val_loss'])\n",
        "  plt.title('Model Loss')\n",
        "  plt.xlabel('Epoch')\n",
        "  plt.ylabel('Loss')\n",
        "  plt.legend(['Train', 'Validation'], loc='upper left')\n",
        "\n",
        "  plt.tight_layout()\n",
        "  plt.show()"
      ],
      "metadata": {
        "id": "sX-shHL_1zru"
      },
      "execution_count": null,
      "outputs": []
    },
    {
      "cell_type": "code",
      "source": [
        "show_history(history,'accuracy','val_accuracy')"
      ],
      "metadata": {
        "id": "gpBp_YddrSv6"
      },
      "execution_count": null,
      "outputs": []
    },
    {
      "cell_type": "code",
      "source": [
        "pre = model.predict(X_test)"
      ],
      "metadata": {
        "id": "UiMyU0uIw7p-"
      },
      "execution_count": null,
      "outputs": []
    },
    {
      "cell_type": "code",
      "source": [
        "right=0\n",
        "for i in range(len(pre)):\n",
        "    prediction=np.argmax(pre[i])\n",
        "    press = Y_test[i][prediction]\n",
        "    if press == 1:\n",
        "        right += 1\n",
        "right / len(pre)"
      ],
      "metadata": {
        "id": "d2V7JY1hss57"
      },
      "execution_count": null,
      "outputs": []
    },
    {
      "cell_type": "code",
      "source": [
        "process_data(path2, category, x_test, y_test) #驗證集資料處理\n",
        "x_test = np.array(x_test)\n",
        "y_test = np.array(y_test)\n",
        "\n",
        "x_test = x_test/255 #色階\n",
        "y_test = np_utils.to_categorical(y_test)"
      ],
      "metadata": {
        "id": "y6DQhNXQsMmU"
      },
      "execution_count": null,
      "outputs": []
    },
    {
      "cell_type": "code",
      "source": [
        "# 因為驗證集的資料目錄與訓練集的不同，所以要做統一onehot\n",
        "all_classes = ['Daisy', 'Dandelion', 'Orchid', 'Sunflower', 'Lilly', 'Tulip', 'Lotus', 'Rose']\n"
      ],
      "metadata": {
        "id": "atbexyZECDlT"
      },
      "execution_count": null,
      "outputs": []
    },
    {
      "cell_type": "code",
      "source": [
        "# 創建類別到索引的映射字典\n",
        "class_to_index = {cls: index for index, cls in enumerate(all_classes)}\n"
      ],
      "metadata": {
        "id": "OCmYcOYsCYPy"
      },
      "execution_count": null,
      "outputs": []
    },
    {
      "cell_type": "code",
      "source": [
        "train_labels = ['Daisy', 'Dandelion', 'Orchid', 'Sunflower', 'Lilly', 'Tulip', 'Lotus', 'Rose']\n",
        "val_labels = ['Daisy', 'Lotus', 'Rose', 'Dandelion', 'Tulip', 'Sunflower', 'Lilly', 'Orchid']\n",
        "def to_one_hot(labels, class_to_index):\n",
        "    num_classes = len(class_to_index)\n",
        "    one_hot_labels = np.zeros((len(labels), num_classes))\n",
        "    for i, label in enumerate(labels):\n",
        "        index = class_to_index[label]\n",
        "        one_hot_labels[i, index] = 1\n",
        "    return one_hot_labels\n",
        "\n",
        "\n",
        "train_labels_one_hot = to_one_hot(train_labels, class_to_index)\n",
        "val_labels_one_hot = to_one_hot(val_labels, class_to_index)\n",
        "\n",
        "\n",
        "\n",
        "print(\"訓練集標籤的one-hot編碼：\\n\", train_labels_one_hot)\n",
        "print(\"驗證集標籤的one-hot編碼：\\n\", val_labels_one_hot)\n"
      ],
      "metadata": {
        "id": "q8csJ82fDbeK"
      },
      "execution_count": null,
      "outputs": []
    },
    {
      "cell_type": "code",
      "source": [
        "print(\"X_train shape:\", X_train.shape)\n",
        "print(\"train_labels_one_hot shape:\", train_labels_one_hot.shape)\n",
        "print(\"X_test shape:\", X_test.shape)\n",
        "print(\"val_labels_one_hot shape:\", val_labels_one_hot.shape)"
      ],
      "metadata": {
        "id": "RADHzrJBJla6"
      },
      "execution_count": null,
      "outputs": []
    },
    {
      "cell_type": "code",
      "source": [
        "pred = model.predict(x_test)"
      ],
      "metadata": {
        "id": "9fUWQQ_aOaPK"
      },
      "execution_count": null,
      "outputs": []
    },
    {
      "cell_type": "code",
      "source": [
        "right=0\n",
        "for i in range(len(pred)):\n",
        "    prediction=np.argmax(pred[i])\n",
        "    press = y_test[i][prediction]\n",
        "    if press == 1:\n",
        "        right += 1\n",
        "right / len(pre)"
      ],
      "metadata": {
        "id": "1M_RZi-6OlVv"
      },
      "execution_count": null,
      "outputs": []
    },
    {
      "cell_type": "markdown",
      "source": [
        "使用ImageDataGenerator"
      ],
      "metadata": {
        "id": "K889t_Vkao-Z"
      }
    },
    {
      "cell_type": "code",
      "source": [
        "from keras.preprocessing.image import ImageDataGenerator"
      ],
      "metadata": {
        "id": "FWCHsApHaw2A"
      },
      "execution_count": null,
      "outputs": []
    },
    {
      "cell_type": "code",
      "source": [
        "train_datagen = ImageDataGenerator(\n",
        "    rotation_range=10,  # 隨機旋轉圖片\n",
        "    width_shift_range=0.2,  # 水平移動圖片\n",
        "    height_shift_range=0.2,  # 垂直移動圖片\n",
        "    shear_range=0.2,  # 剪切強度\n",
        "    zoom_range=0.2,  # 隨機縮放強度\n",
        "    horizontal_flip=True,  # 隨機水平翻轉\n",
        "    fill_mode='nearest'  # 填充新創建像素的方法\n",
        ")"
      ],
      "metadata": {
        "id": "ztqSymkOa1Y_"
      },
      "execution_count": null,
      "outputs": []
    },
    {
      "cell_type": "code",
      "source": [
        "train_generator = train_datagen.flow(X_train,Y_train, batch_size=32)"
      ],
      "metadata": {
        "id": "1htUdV0Ma4VF"
      },
      "execution_count": null,
      "outputs": []
    },
    {
      "cell_type": "code",
      "source": [
        "model = Sequential()\n",
        "model.add(Conv2D(filters=32,kernel_size=(3,3),padding='same',input_shape=x_train.shape[1:],activation='relu')) #input 為抓取長、寬、通道\n",
        "model.add(MaxPool2D(pool_size=(2, 2),padding='same'))\n",
        "model.add(Dropout(0.2))\n",
        "model.add(Conv2D(filters=64,kernel_size=(3,3),padding='same',activation='relu'))\n",
        "model.add(MaxPool2D(pool_size=(2, 2),padding='same'))\n",
        "model.add(Dropout(0.3))\n",
        "model.add(Flatten())\n",
        "model.add(Dense(128, activation='relu',kernel_regularizer=l2(0.001)))\n",
        "model.add(Dropout(0.5))\n",
        "model.add(Dense(8, activation='softmax'))"
      ],
      "metadata": {
        "id": "e-_J8hVOHmxp"
      },
      "execution_count": null,
      "outputs": []
    },
    {
      "cell_type": "code",
      "source": [
        "model.compile(optimizer='adam',\n",
        "              loss='categorical_crossentropy',\n",
        "              metrics=['accuracy'])"
      ],
      "metadata": {
        "id": "BhGCgs9-Nl5l"
      },
      "execution_count": null,
      "outputs": []
    },
    {
      "cell_type": "code",
      "source": [
        "early_stopping = EarlyStopping(monitor='val_loss', patience=10, verbose=1, mode='min', restore_best_weights=True)"
      ],
      "metadata": {
        "id": "_y2BXcbeNnaK"
      },
      "execution_count": null,
      "outputs": []
    },
    {
      "cell_type": "code",
      "source": [
        "reduce_lr = ReduceLROnPlateau(monitor='val_loss', factor=0.2, patience=5, min_lr=0.001)"
      ],
      "metadata": {
        "id": "yYeTL_BTqZ5G"
      },
      "execution_count": null,
      "outputs": []
    },
    {
      "cell_type": "code",
      "source": [
        "history = model.fit(\n",
        "    train_generator,\n",
        "    steps_per_epoch=8,\n",
        "    epochs=10,\n",
        "    validation_data=(X_test,Y_test)\n",
        ")\n"
      ],
      "metadata": {
        "id": "5yQpleGEfX6J"
      },
      "execution_count": null,
      "outputs": []
    },
    {
      "cell_type": "code",
      "source": [],
      "metadata": {
        "id": "IKgX8psqfzI6"
      },
      "execution_count": null,
      "outputs": []
    },
    {
      "cell_type": "code",
      "source": [
        "loss, accuracy = model.evaluate(X_train, Y_train)"
      ],
      "metadata": {
        "id": "61K5b0FgSftt"
      },
      "execution_count": null,
      "outputs": []
    },
    {
      "cell_type": "code",
      "source": [
        "pre = model.predict(X_test)"
      ],
      "metadata": {
        "id": "t8z0ic1bS8v7"
      },
      "execution_count": null,
      "outputs": []
    },
    {
      "cell_type": "code",
      "source": [
        "right=0\n",
        "for i in range(len(pre)):\n",
        "    prediction=np.argmax(pre[i])\n",
        "    press = Y_test[i][prediction]\n",
        "    if press == 1:\n",
        "        right += 1\n",
        "right / len(pre)"
      ],
      "metadata": {
        "id": "JLzP_pBRTEMQ"
      },
      "execution_count": null,
      "outputs": []
    },
    {
      "cell_type": "markdown",
      "source": [
        "使用eff7"
      ],
      "metadata": {
        "id": "doBxVoCJByDM"
      }
    },
    {
      "cell_type": "code",
      "source": [
        "base_model = EfficientNetB7(include_top=False, weights='imagenet', input_shape=(256, 256, 3), pooling='avg')\n",
        "\n",
        "# Freeze the layers of the pre-trained model\n",
        "for layer in base_model.layers:\n",
        "    layer.trainable = False\n",
        "\n",
        "# Build a sequential model on top of the pre-trained base model\n",
        "model = Sequential([\n",
        "    base_model,\n",
        "    layers.Flatten(),\n",
        "    layers.Dense(512, activation='relu'),\n",
        "    layers.Dropout(0.3),\n",
        "    layers.Dense(8, activation='softmax')\n",
        "])\n",
        "\n",
        "# Compile the model\n",
        "model.compile(optimizer='adam', loss='categorical_crossentropy', metrics=['accuracy'])\n",
        "\n",
        "# Display the model summary\n",
        "model.summary()"
      ],
      "metadata": {
        "id": "7BLjK6h0BwJq"
      },
      "execution_count": null,
      "outputs": []
    },
    {
      "cell_type": "code",
      "source": [
        "history = model.fit(X_train,Y_train,epochs=10,validation_data=(X_test,Y_test),validation_split=0.1)\n"
      ],
      "metadata": {
        "id": "0BhfmIZ6EenI"
      },
      "execution_count": null,
      "outputs": []
    },
    {
      "cell_type": "code",
      "source": [
        "loss, accuracy = model.evaluate(rX_train, ry_train)"
      ],
      "metadata": {
        "id": "jVH_7BUEF4Ap"
      },
      "execution_count": null,
      "outputs": []
    }
  ],
  "metadata": {
    "kernelspec": {
      "display_name": "Python 3",
      "name": "python3"
    },
    "language_info": {
      "codemirror_mode": {
        "name": "ipython",
        "version": 3
      },
      "file_extension": ".py",
      "mimetype": "text/x-python",
      "name": "python",
      "nbconvert_exporter": "python",
      "pygments_lexer": "ipython3",
      "version": "3.11.4"
    },
    "colab": {
      "provenance": [],
      "machine_shape": "hm",
      "gpuType": "T4",
      "include_colab_link": true
    },
    "accelerator": "GPU"
  },
  "nbformat": 4,
  "nbformat_minor": 0
}